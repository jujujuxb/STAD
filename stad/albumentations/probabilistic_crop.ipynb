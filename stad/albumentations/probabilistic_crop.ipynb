{
 "cells": [
  {
   "cell_type": "code",
   "execution_count": 1,
   "metadata": {},
   "outputs": [],
   "source": [
    "from albumentations.core.transforms_interface import DualTransform"
   ]
  },
  {
   "cell_type": "code",
   "execution_count": null,
   "metadata": {},
   "outputs": [],
   "source": [
    "class ProbabilisticCrop(DualTransform):\n",
    "    '''\n",
    "    Crop the input based headmap\n",
    "    \n",
    "    Args:\n",
    "        height (int)\n",
    "    '''\n",
    "    \n",
    "    def __init__(self, \n",
    "                 height: int, \n",
    "                 width: int, \n",
    "                 always_apply: bool=False, \n",
    "                 p: float=1.0):\n",
    "        \n",
    "        super(RandomCrop, self).__init__(always_apply, p)\n",
    "        self.height = height\n",
    "        self.width = width\n",
    "        self.anomaly_map = anomaly_map\n",
    "        \n",
    "        \n",
    "    def apply(self,\n",
    "              img,\n",
    "              h_start,\n",
    "              w_start,\n",
    "              **params):\n",
    "        \n",
    "        "
   ]
  }
 ],
 "metadata": {
  "kernelspec": {
   "display_name": "Python 3",
   "language": "python",
   "name": "python3"
  },
  "language_info": {
   "codemirror_mode": {
    "name": "ipython",
    "version": 3
   },
   "file_extension": ".py",
   "mimetype": "text/x-python",
   "name": "python",
   "nbconvert_exporter": "python",
   "pygments_lexer": "ipython3",
   "version": "3.6.5"
  }
 },
 "nbformat": 4,
 "nbformat_minor": 4
}
